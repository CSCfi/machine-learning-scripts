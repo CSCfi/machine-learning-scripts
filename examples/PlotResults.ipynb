{
 "cells": [
  {
   "cell_type": "markdown",
   "id": "bc6771b2-4aa9-4da7-9bae-10a7e1075be2",
   "metadata": {},
   "source": [
    "# Plot NN training results\n",
    "\n",
    "This notebook can be used to plot loss and accuracy values during training of neural networks. The results have been recorded by Keras `CSVLogger()` and are here read from a CSV file. "
   ]
  },
  {
   "cell_type": "code",
   "execution_count": null,
   "id": "4bcaddd2-28c5-4bd0-b414-ac23cfe0828f",
   "metadata": {},
   "outputs": [],
   "source": [
    "import numpy as np\n",
    "import pandas as pd\n",
    "import os\n",
    "\n",
    "import matplotlib.pyplot as plt\n",
    "import seaborn as sns\n",
    "sns.set()"
   ]
  },
  {
   "cell_type": "markdown",
   "id": "22e77bcf-50f8-4984-a14f-b837b3d10120",
   "metadata": {},
   "source": [
    "Here you can specify the CSV file to be plotted:"
   ]
  },
  {
   "cell_type": "code",
   "execution_count": null,
   "id": "497ce9d2-3657-4c2a-9639-634a6fdb11b2",
   "metadata": {},
   "outputs": [],
   "source": [
    "CSVFILE = \"dvc-cnn-simple-2022-11-xx_xx-xx-xx.csv\"\n",
    "\n",
    "assert os.path.exists(CSVFILE), \"File not found: \"+CSVFILE"
   ]
  },
  {
   "cell_type": "code",
   "execution_count": null,
   "id": "1039052e-4f2b-4660-80c0-41c2ac91a34f",
   "metadata": {},
   "outputs": [],
   "source": [
    "df = pd.read_csv(CSVFILE)\n",
    "df.info()"
   ]
  },
  {
   "cell_type": "code",
   "execution_count": null,
   "id": "0b5ae09f-c1a7-46b3-9aec-9f76e7622864",
   "metadata": {},
   "outputs": [],
   "source": [
    "fig, (ax1, ax2) = plt.subplots(1, 2, figsize=(10,3))\n",
    "\n",
    "ax1.plot(df.epoch, df.loss, label='training')\n",
    "ax1.plot(df.epoch, df.val_loss, label='validation')\n",
    "ax1.set_title('loss')\n",
    "ax1.set_xlabel('epoch')\n",
    "ax1.legend(loc='best')\n",
    "\n",
    "ax2.plot(df.epoch, df.accuracy, label='training')\n",
    "ax2.plot(df.epoch, df.val_accuracy, label='validation')\n",
    "ax2.set_title('accuracy')\n",
    "ax2.set_xlabel('epoch')\n",
    "ax2.legend(loc='best')\n",
    "\n",
    "fig.suptitle(CSVFILE.replace(\".csv\", \"\"), y=1.05);"
   ]
  }
 ],
 "metadata": {
  "kernelspec": {
   "display_name": "Python 3 (ipykernel)",
   "language": "python",
   "name": "python3"
  },
  "language_info": {
   "codemirror_mode": {
    "name": "ipython",
    "version": 3
   },
   "file_extension": ".py",
   "mimetype": "text/x-python",
   "name": "python",
   "nbconvert_exporter": "python",
   "pygments_lexer": "ipython3",
   "version": "3.10.6"
  }
 },
 "nbformat": 4,
 "nbformat_minor": 5
}
