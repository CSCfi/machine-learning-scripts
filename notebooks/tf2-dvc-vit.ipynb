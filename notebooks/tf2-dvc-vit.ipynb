{
 "cells": [
  {
   "cell_type": "markdown",
   "metadata": {},
   "source": [
    "# Dogs-vs-cats classification with ViT\n",
    "\n",
    "In this notebook, we'll finetune a [Vision Transformer](https://arxiv.org/abs/2010.11929) (ViT) to classify images of dogs from images of cats using TensorFlow 2 / Keras and HuggingFace's [Transformers](https://github.com/huggingface/transformers). \n",
    "\n",
    "**Note that using a GPU with this notebook is highly recommended.**\n",
    "\n",
    "First, the needed imports."
   ]
  },
  {
   "cell_type": "code",
   "execution_count": null,
   "metadata": {},
   "outputs": [],
   "source": [
    "%matplotlib inline\n",
    "\n",
    "from transformers import ViTFeatureExtractor, TFViTForImageClassification\n",
    "from transformers.utils import check_min_version\n",
    "from transformers import __version__ as transformers_version\n",
    "\n",
    "import tensorflow as tf\n",
    "from tensorflow.keras.utils import plot_model\n",
    "from PIL import Image\n",
    "import os, sys\n",
    "\n",
    "from natsort import natsorted\n",
    "\n",
    "import numpy as np\n",
    "import matplotlib.pyplot as plt\n",
    "import seaborn as sns\n",
    "sns.set()\n",
    "\n",
    "check_min_version(\"4.13.0.dev0\")\n",
    "\n",
    "print('Using TensorFlow version:', tf.__version__,\n",
    "      'Keras version:', tf.keras.__version__,\n",
    "      'Transformers version:', transformers_version)"
   ]
  },
  {
   "cell_type": "markdown",
   "metadata": {},
   "source": [
    "## Data\n",
    "\n",
    "The training dataset consists of 2000 images of dogs and cats, split in half.  In addition, the validation set consists of 1000 images, and the test set of 22000 images.  Here are some random training images:\n",
    "\n",
    "![title](imgs/dvc.png)"
   ]
  },
  {
   "cell_type": "code",
   "execution_count": null,
   "metadata": {},
   "outputs": [],
   "source": [
    "DATADIR = \"/media/data/dogs-vs-cats/train-2000/train\"\n",
    "\n",
    "def pil_loadimg(path: str):\n",
    "    with open(path, \"rb\") as f:\n",
    "        im = Image.open(f)\n",
    "        return im.convert(\"RGB\")\n",
    "    \n",
    "def pil_loader(imglist: list):\n",
    "    res = []\n",
    "    for i in imglist:\n",
    "        res.append(pil_loadimg(DATADIR+\"/\"+i))\n",
    "    return res"
   ]
  },
  {
   "cell_type": "code",
   "execution_count": null,
   "metadata": {},
   "outputs": [],
   "source": [
    "feature_extractor = ViTFeatureExtractor.from_pretrained('google/vit-base-patch16-224')\n",
    "model = TFViTForImageClassification.from_pretrained('google/vit-base-patch16-224', \n",
    "                                                    num_labels=1, ignore_mismatched_sizes=True)"
   ]
  },
  {
   "cell_type": "code",
   "execution_count": null,
   "metadata": {},
   "outputs": [],
   "source": [
    "image = pil_loadimg(\"/media/data/dogs-vs-cats/train-2000/train/cats/cat.1.jpg\")\n",
    "inputs = feature_extractor(images=image, return_tensors=\"tf\")\n",
    "outputs = model(**inputs)\n",
    "logits = outputs.logits                                                                                     \n",
    "# model predicts one of the 1000 ImageNet classes                                                           \n",
    "predicted_class_idx = tf.math.argmax(logits, axis=-1)[0]                                                    \n",
    "print(\"Predicted class:\", model.config.id2label[int(predicted_class_idx)])"
   ]
  },
  {
   "cell_type": "code",
   "execution_count": null,
   "metadata": {},
   "outputs": [],
   "source": [
    "images = pil_loader([\"cats/cat.1.jpg\", \"dogs/dog.1.jpg\"])"
   ]
  },
  {
   "cell_type": "code",
   "execution_count": null,
   "metadata": {},
   "outputs": [],
   "source": [
    "inputs = feature_extractor(images=images, return_tensors=\"tf\")\n",
    "outputs = model(**inputs)\n",
    "logits = outputs.logits                                                                                     \n",
    "# model predicts one of the 1000 ImageNet classes\n",
    "predicted_class_idx = tf.math.argmax(logits, axis=-1)\n",
    "for i in range(len(logits)):\n",
    "    print(\"Predicted class:\", model.config.id2label[int(predicted_class_idx[i])])"
   ]
  },
  {
   "cell_type": "code",
   "execution_count": null,
   "metadata": {},
   "outputs": [],
   "source": [
    "cats, dogs = [],[]\n",
    "for fn in os.listdir(DATADIR+\"/cats\"):\n",
    "    cats.append(\"cats/\"+fn)\n",
    "for fn in os.listdir(DATADIR+\"/dogs\"):\n",
    "    dogs.append(\"dogs/\"+fn)\n",
    "cats_sorted = natsorted(cats)\n",
    "dogs_sorted = natsorted(dogs)"
   ]
  },
  {
   "cell_type": "code",
   "execution_count": null,
   "metadata": {},
   "outputs": [],
   "source": [
    "images = pil_loader(cats_sorted[:500]+dogs_sorted[:500])\n",
    "labels = [0] * 500 + [1] * 500\n",
    "inputs = feature_extractor(images=images, return_tensors=\"tf\")"
   ]
  },
  {
   "cell_type": "code",
   "execution_count": null,
   "metadata": {},
   "outputs": [],
   "source": [
    "BATCH_SIZE = 32\n",
    "\n",
    "dataset_train = tf.data.Dataset.from_tensor_slices((inputs.data, labels))\n",
    "dataset_train = dataset_train.shuffle(len(dataset_train)).batch(BATCH_SIZE)"
   ]
  },
  {
   "cell_type": "code",
   "execution_count": null,
   "metadata": {},
   "outputs": [],
   "source": [
    "LR = 1e-5\n",
    "\n",
    "optimizer = tf.keras.optimizers.Adam(learning_rate=LR) #, epsilon=1e-08, clipnorm=1.0)\n",
    "loss = tf.keras.losses.BinaryCrossentropy(from_logits=False)\n",
    "metric = 'accuracy'\n",
    "\n",
    "model.compile(optimizer=optimizer, loss=loss, metrics=[metric])\n",
    "\n",
    "print(model.summary())"
   ]
  },
  {
   "cell_type": "code",
   "execution_count": null,
   "metadata": {},
   "outputs": [],
   "source": [
    "%%time\n",
    "\n",
    "EPOCHS = 5\n",
    "\n",
    "history = model.fit(dataset_train,\n",
    "                    epochs=EPOCHS, verbose=2) #callbacks=callbacks)"
   ]
  },
  {
   "cell_type": "code",
   "execution_count": null,
   "metadata": {},
   "outputs": [],
   "source": [
    "fig, (ax1, ax2) = plt.subplots(1, 2, figsize=(10,3))\n",
    "\n",
    "ax1.plot(history.epoch,history.history['loss'], label='training')\n",
    "#ax1.plot(history.epoch,history.history['val_loss'], label='validation')\n",
    "ax1.set_title('loss')\n",
    "ax1.set_xlabel('epoch')\n",
    "ax1.legend(loc='best')\n",
    "\n",
    "ax2.plot(history.epoch,history.history['accuracy'], label='training')\n",
    "#ax2.plot(history.epoch,history.history['val_accuracy'], label='validation')\n",
    "ax2.set_title('accuracy')\n",
    "ax2.set_xlabel('epoch')\n",
    "ax2.legend(loc='best');"
   ]
  },
  {
   "cell_type": "code",
   "execution_count": null,
   "metadata": {},
   "outputs": [],
   "source": [
    "inputs.data.keys()"
   ]
  },
  {
   "cell_type": "code",
   "execution_count": null,
   "metadata": {},
   "outputs": [],
   "source": [
    "testimages = pil_loader([\"cats/cat.900.jpg\", \"dogs/dog.900.jpg\", \"dogs/dog.901.jpg\"])\n",
    "testinputs = feature_extractor(images=testimages, return_tensors=\"tf\")\n",
    "dataset_test = tf.data.Dataset.from_tensor_slices((testinputs.data, [0, 1, 1])).batch(BATCH_SIZE)\n",
    "outputs = model(**testinputs)\n",
    "logits = outputs.logits                                                                                     \n",
    "predicted_class_idx = tf.math.argmax(logits, axis=-1)\n",
    "for i in range(len(logits)):\n",
    "    print(\"Predicted class:\", predicted_class_idx[i])"
   ]
  },
  {
   "cell_type": "code",
   "execution_count": null,
   "metadata": {},
   "outputs": [],
   "source": [
    "test_scores = model.evaluate(dataset_test, verbose=2)"
   ]
  },
  {
   "cell_type": "code",
   "execution_count": null,
   "metadata": {},
   "outputs": [],
   "source": [
    "p = model.predict(dataset_test, verbose=2)"
   ]
  },
  {
   "cell_type": "code",
   "execution_count": null,
   "metadata": {},
   "outputs": [],
   "source": [
    "p"
   ]
  },
  {
   "cell_type": "code",
   "execution_count": null,
   "metadata": {},
   "outputs": [],
   "source": []
  }
 ],
 "metadata": {
  "kernelspec": {
   "display_name": "python3.7",
   "language": "python",
   "name": "python3.7"
  },
  "language_info": {
   "codemirror_mode": {
    "name": "ipython",
    "version": 3
   },
   "file_extension": ".py",
   "mimetype": "text/x-python",
   "name": "python",
   "nbconvert_exporter": "python",
   "pygments_lexer": "ipython3",
   "version": "3.7.10"
  }
 },
 "nbformat": 4,
 "nbformat_minor": 2
}
