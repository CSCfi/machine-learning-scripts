{
 "cells": [
  {
   "cell_type": "markdown",
   "metadata": {
    "ein.tags": "worksheet-0",
    "slideshow": {
     "slide_type": "-"
    }
   },
   "source": [
    "# Dogs-vs-cats classification with CNNs\n",
    "\n",
    "In this notebook, we'll train a convolutional neural network (CNN, ConvNet) to classify images of dogs from images of cats using PyTorch.\n",
    "\n",
    "**Note that using a GPU with this notebook is highly recommended.**\n",
    "\n",
    "First, the needed imports."
   ]
  },
  {
   "cell_type": "code",
   "execution_count": null,
   "metadata": {
    "autoscroll": false,
    "collapsed": false,
    "ein.hycell": false,
    "ein.tags": "worksheet-0",
    "jupyter": {
     "outputs_hidden": false
    },
    "slideshow": {
     "slide_type": "-"
    }
   },
   "outputs": [],
   "source": [
    "%matplotlib inline\n",
    "\n",
    "import torch\n",
    "import torch.nn as nn\n",
    "import torch.nn.functional as F\n",
    "import torch.optim as optim\n",
    "from torch.utils.data import DataLoader\n",
    "from torchvision import datasets, transforms, models\n",
    "from distutils.version import LooseVersion as LV\n",
    "\n",
    "torch.manual_seed(42)\n",
    "import numpy as np\n",
    "import matplotlib.pyplot as plt\n",
    "import seaborn as sns\n",
    "sns.set()\n",
    "\n",
    "if torch.cuda.is_available():\n",
    "    device = torch.device('cuda')\n",
    "else:\n",
    "    device = torch.device('cpu')\n",
    "\n",
    "print('Using PyTorch version:', torch.__version__, ' Device:', device)\n",
    "assert(LV(torch.__version__) >= LV(\"1.0.0\"))"
   ]
  },
  {
   "cell_type": "markdown",
   "metadata": {
    "ein.tags": "worksheet-0",
    "slideshow": {
     "slide_type": "-"
    }
   },
   "source": [
    "TensorBoard is a tool for visualizing progress during training.  Although TensorBoard was created for TensorFlow, it can also be used with PyTorch.  It is easiest to use it with the tensorboardX module.\n"
   ]
  },
  {
   "cell_type": "code",
   "execution_count": null,
   "metadata": {
    "autoscroll": false,
    "collapsed": false,
    "ein.hycell": false,
    "ein.tags": "worksheet-0",
    "jupyter": {
     "outputs_hidden": false
    },
    "slideshow": {
     "slide_type": "-"
    }
   },
   "outputs": [],
   "source": [
    "try:\n",
    "    import tensorboardX\n",
    "    import os, datetime\n",
    "    logdir = os.path.join(os.getcwd(), \"logs\",\n",
    "                          \"dvc-\"+datetime.datetime.now().strftime('%Y-%m-%d_%H-%M-%S'))\n",
    "    print('TensorBoard log directory:', logdir)\n",
    "    os.makedirs(logdir)\n",
    "    log = tensorboardX.SummaryWriter(logdir)\n",
    "except ImportError as e:\n",
    "    log = None"
   ]
  },
  {
   "cell_type": "markdown",
   "metadata": {
    "ein.tags": "worksheet-0",
    "slideshow": {
     "slide_type": "-"
    }
   },
   "source": [
    "## Data\n",
    "\n",
    "The training dataset consists of 2000 images of dogs and cats, split in half.  In addition, the validation set consists of 1000 images, and the test set of 22000 images.  Here are some random training images:\n",
    "\n",
    "![title](imgs/dvc.png)\n",
    "\n",
    "### Downloading the data"
   ]
  },
  {
   "cell_type": "code",
   "execution_count": null,
   "metadata": {
    "autoscroll": false,
    "collapsed": false,
    "ein.hycell": false,
    "ein.tags": "worksheet-0",
    "jupyter": {
     "outputs_hidden": false
    },
    "slideshow": {
     "slide_type": "-"
    }
   },
   "outputs": [],
   "source": [
    "datapath = \"/media/data/dogs-vs-cats/train-2000\"\n",
    "(nimages_train, nimages_validation, nimages_test) = (2000, 1000, 22000)"
   ]
  },
  {
   "cell_type": "markdown",
   "metadata": {
    "ein.tags": "worksheet-0",
    "slideshow": {
     "slide_type": "-"
    }
   },
   "source": [
    "### Data augmentation\n",
    "\n",
    "First, we'll resize all training and validation images to a fixed size.\n",
    "\n",
    "Then, to make the most of our limited number of training examples, we'll apply random transformations to them each time we are looping over them. This way, we \"augment\" our training dataset to contain more data. There are various transformations available in `torchvision`, see [torchvision.transforms](https://pytorch.org/docs/stable/torchvision/transforms.html) for more information."
   ]
  },
  {
   "cell_type": "code",
   "execution_count": null,
   "metadata": {
    "autoscroll": false,
    "collapsed": false,
    "ein.hycell": false,
    "ein.tags": "worksheet-0",
    "jupyter": {
     "outputs_hidden": false
    },
    "slideshow": {
     "slide_type": "-"
    }
   },
   "outputs": [],
   "source": [
    "input_image_size = (150, 150)\n",
    "\n",
    "data_transform = transforms.Compose([\n",
    "        transforms.Resize(input_image_size),\n",
    "        transforms.RandomAffine(degrees=0, translate=None,\n",
    "                                scale=(0.8, 1.2), shear=0.2),\n",
    "        transforms.RandomHorizontalFlip(),\n",
    "        transforms.ToTensor()\n",
    "    ])\n",
    "\n",
    "noop_transform = transforms.Compose([\n",
    "        transforms.Resize(input_image_size),\n",
    "        transforms.ToTensor()\n",
    "    ])"
   ]
  },
  {
   "cell_type": "markdown",
   "metadata": {
    "ein.tags": "worksheet-0",
    "slideshow": {
     "slide_type": "-"
    }
   },
   "source": [
    "Let's see a couple of training images with and without the augmentation."
   ]
  },
  {
   "cell_type": "code",
   "execution_count": null,
   "metadata": {
    "autoscroll": false,
    "collapsed": false,
    "ein.hycell": false,
    "ein.tags": "worksheet-0",
    "jupyter": {
     "outputs_hidden": false
    },
    "slideshow": {
     "slide_type": "-"
    }
   },
   "outputs": [],
   "source": [
    "orig_dataset = datasets.ImageFolder(root=datapath+'/train',\n",
    "                                     transform=noop_transform)\n",
    "orig_loader = DataLoader(orig_dataset, batch_size=9,\n",
    "                         shuffle=False, num_workers=0)\n",
    "\n",
    "batch, _ = next(iter(orig_loader))\n",
    "batch = batch.numpy().transpose((0, 2, 3, 1))\n",
    "\n",
    "plt.figure(figsize=(10,10))\n",
    "for i in range(9):\n",
    "    ax=plt.subplot(3,3,i+1)\n",
    "    ax.grid(False)\n",
    "    plt.imshow(batch[i,:,:,:])\n",
    "    plt.suptitle('only resized training images', fontsize=16, y=0.93)\n",
    "\n",
    "augm_dataset = datasets.ImageFolder(root=datapath+'/train',\n",
    "                                     transform=data_transform)\n",
    "augm_loader = DataLoader(augm_dataset, batch_size=9,\n",
    "                         shuffle=False, num_workers=0)\n",
    "\n",
    "batch, _ = next(iter(augm_loader))\n",
    "batch = batch.numpy().transpose((0, 2, 3, 1))\n",
    "\n",
    "plt.figure(figsize=(10,10))\n",
    "for i in range(9):\n",
    "    ax=plt.subplot(3,3,i+1)\n",
    "    ax.grid(False)\n",
    "    plt.imshow(batch[i,:,:,:])\n",
    "    plt.suptitle('augmented training images', fontsize=16, y=0.93)"
   ]
  },
  {
   "cell_type": "markdown",
   "metadata": {
    "ein.tags": "worksheet-0",
    "slideshow": {
     "slide_type": "-"
    }
   },
   "source": [
    "Let's insert the augmented images also to a TensorBoard event file."
   ]
  },
  {
   "cell_type": "code",
   "execution_count": null,
   "metadata": {
    "autoscroll": false,
    "collapsed": false,
    "ein.hycell": false,
    "ein.tags": "worksheet-0",
    "jupyter": {
     "outputs_hidden": false
    },
    "slideshow": {
     "slide_type": "-"
    }
   },
   "outputs": [],
   "source": [
    "if log is not None:\n",
    "    log.add_images('augmented', batch, dataformats='NHWC')\n"
   ]
  },
  {
   "cell_type": "markdown",
   "metadata": {
    "ein.tags": "worksheet-0",
    "slideshow": {
     "slide_type": "-"
    }
   },
   "source": [
    "### Data loaders\n",
    "\n",
    "Let's now define our real data loaders for training, validation, and test data."
   ]
  },
  {
   "cell_type": "code",
   "execution_count": null,
   "metadata": {
    "autoscroll": false,
    "collapsed": false,
    "ein.hycell": false,
    "ein.tags": "worksheet-0",
    "jupyter": {
     "outputs_hidden": false
    },
    "slideshow": {
     "slide_type": "-"
    }
   },
   "outputs": [],
   "source": [
    "batch_size = 25\n",
    "\n",
    "print('Train: ', end=\"\")\n",
    "train_dataset = datasets.ImageFolder(root=datapath+'/train',\n",
    "                                     transform=data_transform)\n",
    "train_loader = DataLoader(train_dataset, batch_size=batch_size,\n",
    "                         shuffle=True, num_workers=4)\n",
    "print('Found', len(train_dataset), 'images belonging to',\n",
    "     len(train_dataset.classes), 'classes')\n",
    "\n",
    "print('Validation: ', end=\"\")\n",
    "validation_dataset = datasets.ImageFolder(root=datapath+'/validation',\n",
    "                                     transform=noop_transform)\n",
    "validation_loader = DataLoader(validation_dataset, batch_size=batch_size,\n",
    "                         shuffle=False, num_workers=4)\n",
    "print('Found', len(validation_dataset), 'images belonging to',\n",
    "     len(validation_dataset.classes), 'classes')\n",
    "\n",
    "print('Test: ', end=\"\")\n",
    "test_dataset = datasets.ImageFolder(root=datapath+'/test',\n",
    "                                     transform=noop_transform)\n",
    "test_loader = DataLoader(test_dataset, batch_size=batch_size,\n",
    "                         shuffle=False, num_workers=4)\n",
    "print('Found', len(test_dataset), 'images belonging to',\n",
    "     len(test_dataset.classes), 'classes')"
   ]
  },
  {
   "cell_type": "markdown",
   "metadata": {
    "ein.tags": "worksheet-0",
    "slideshow": {
     "slide_type": "-"
    }
   },
   "source": [
    "## Option 1: Train a small CNN from scratch\n",
    "\n",
    "Similarly as with MNIST digits, we can start from scratch and train a CNN for the classification task. However, due to the small number of training images, a large network will easily overfit, regardless of the data augmentation.\n",
    "\n",
    "### Initialization"
   ]
  },
  {
   "cell_type": "code",
   "execution_count": null,
   "metadata": {
    "autoscroll": false,
    "collapsed": false,
    "ein.hycell": false,
    "ein.tags": "worksheet-0",
    "jupyter": {
     "outputs_hidden": false
    },
    "slideshow": {
     "slide_type": "-"
    }
   },
   "outputs": [],
   "source": [
    "class Net(nn.Module):\n",
    "    def __init__(self):\n",
    "        super(Net, self).__init__()\n",
    "        self.conv1 = nn.Conv2d(3, 32, (3, 3))\n",
    "        self.pool1 = nn.MaxPool2d((2, 2))\n",
    "        self.conv2 = nn.Conv2d(32, 32, (3, 3))\n",
    "        self.pool2 = nn.MaxPool2d((2, 2))\n",
    "        self.conv3 = nn.Conv2d(32, 64, (3, 3))\n",
    "        self.pool3 = nn.MaxPool2d((2, 2))\n",
    "        self.fc1 = nn.Linear(17*17*64, 64)\n",
    "        self.fc1_drop = nn.Dropout(0.5)\n",
    "        self.fc2 = nn.Linear(64, 1)\n",
    "\n",
    "    def forward(self, x):\n",
    "        x = F.relu(self.conv1(x))\n",
    "        x = self.pool1(x)\n",
    "        x = F.relu(self.conv2(x))\n",
    "        x = self.pool2(x)\n",
    "        x = F.relu(self.conv3(x))\n",
    "        x = self.pool3(x)\n",
    "\n",
    "        # \"flatten\" 2D to 1D\n",
    "        x = x.view(-1, 17*17*64)\n",
    "        x = F.relu(self.fc1(x))\n",
    "        x = self.fc1_drop(x)\n",
    "        return torch.sigmoid(self.fc2(x))\n",
    "\n",
    "model = Net().to(device)\n",
    "optimizer = optim.SGD(model.parameters(), lr=0.03)\n",
    "criterion = nn.BCELoss()\n",
    "\n",
    "print(model)"
   ]
  },
  {
   "cell_type": "markdown",
   "metadata": {
    "ein.tags": "worksheet-0",
    "slideshow": {
     "slide_type": "-"
    }
   },
   "source": [
    "### Learning"
   ]
  },
  {
   "cell_type": "code",
   "execution_count": null,
   "metadata": {
    "autoscroll": false,
    "collapsed": false,
    "ein.hycell": false,
    "ein.tags": "worksheet-0",
    "jupyter": {
     "outputs_hidden": false
    },
    "slideshow": {
     "slide_type": "-"
    }
   },
   "outputs": [],
   "source": [
    "def train(epoch, scores=None):\n",
    "    # Set model to training mode\n",
    "    model.train()\n",
    "    epoch_loss = 0\n",
    "\n",
    "    # Loop over each batch from the training set\n",
    "    for batch_idx, (data, target) in enumerate(train_loader):\n",
    "        # Copy data to GPU if needed\n",
    "        data = data.to(device)\n",
    "        target = target.to(device)\n",
    "\n",
    "        # Zero gradient buffers\n",
    "        optimizer.zero_grad()\n",
    "\n",
    "        # Pass data through the network\n",
    "        output = model(data)\n",
    "        output = torch.squeeze(output)\n",
    "\n",
    "        # Calculate loss\n",
    "        loss = criterion(output, target.to(torch.float32))\n",
    "        epoch_loss += loss.data.item()\n",
    "\n",
    "        # Backpropagate\n",
    "        loss.backward()\n",
    "\n",
    "        # Update weights\n",
    "        optimizer.step()\n",
    "\n",
    "    epoch_loss /= len(train_loader.dataset)\n",
    "    print('Train Epoch: {}, Loss: {:.4f}'.format(epoch, epoch_loss))\n",
    "\n",
    "    if scores is not None:\n",
    "        if 'loss' not in scores:\n",
    "            scores['loss'] = []\n",
    "        scores['loss'].append(epoch_loss)\n",
    "\n",
    "    if log is not None:\n",
    "        log.add_scalar('loss', epoch_loss, epoch-1)"
   ]
  },
  {
   "cell_type": "code",
   "execution_count": null,
   "metadata": {
    "autoscroll": false,
    "collapsed": false,
    "ein.hycell": false,
    "ein.tags": "worksheet-0",
    "jupyter": {
     "outputs_hidden": false
    },
    "slideshow": {
     "slide_type": "-"
    }
   },
   "outputs": [],
   "source": [
    "def evaluate(loader, scores=None, iteration=-1):\n",
    "    model.eval()\n",
    "    loss, correct = 0, 0\n",
    "    for data, target in loader:\n",
    "        data = data.to(device)\n",
    "        target = target.to(device)\n",
    "\n",
    "        output = torch.squeeze(model(data))\n",
    "\n",
    "        loss += criterion(output, target.to(torch.float32)).data.item()\n",
    "\n",
    "        pred = output>0.5\n",
    "        pred = pred.to(torch.int64)\n",
    "        correct += pred.eq(target.data).cpu().sum()\n",
    "\n",
    "    loss /= len(loader.dataset)\n",
    "\n",
    "    accuracy = 100. * correct.to(torch.float32) / len(loader.dataset)\n",
    "\n",
    "    print('Average loss: {:.4f}, Accuracy: {}/{} ({:.2f}%)\\n'.format(\n",
    "        loss, correct, len(loader.dataset), accuracy))\n",
    "\n",
    "    if scores is not None:\n",
    "        if 'loss' not in scores:\n",
    "            scores['loss'] = []\n",
    "        if 'accuracy' not in scores:\n",
    "            scores['accuracy'] = []\n",
    "        scores['loss'].append(loss)\n",
    "        scores['accuracy'].append(accuracy)\n",
    "\n",
    "    if log is not None and iteration >= 0:\n",
    "        log.add_scalar('val_loss', loss, iteration)\n",
    "        log.add_scalar('val_acc', accuracy, iteration)\n"
   ]
  },
  {
   "cell_type": "code",
   "execution_count": null,
   "metadata": {
    "autoscroll": false,
    "collapsed": false,
    "ein.hycell": false,
    "ein.tags": "worksheet-0",
    "jupyter": {
     "outputs_hidden": false
    },
    "slideshow": {
     "slide_type": "-"
    }
   },
   "outputs": [],
   "source": [
    "%%time\n",
    "\n",
    "epochs = 50\n",
    "\n",
    "train_scores = {}\n",
    "valid_scores = {}\n",
    "\n",
    "for epoch in range(1, epochs + 1):\n",
    "    train(epoch, train_scores)\n",
    "\n",
    "    with torch.no_grad():\n",
    "        print('\\nValidation:')\n",
    "        evaluate(validation_loader, valid_scores, epoch-1)\n"
   ]
  },
  {
   "cell_type": "code",
   "execution_count": null,
   "metadata": {
    "autoscroll": false,
    "collapsed": false,
    "ein.hycell": false,
    "ein.tags": "worksheet-0",
    "jupyter": {
     "outputs_hidden": false
    },
    "slideshow": {
     "slide_type": "-"
    }
   },
   "outputs": [],
   "source": [
    "x = np.arange(1,epochs+1)\n",
    "plt.figure(figsize=(5,3))\n",
    "plt.plot(x, train_scores['loss'], label='training')\n",
    "plt.plot(x, valid_scores['loss'], label='validation')\n",
    "plt.title('loss')\n",
    "plt.legend(loc='best')\n",
    "\n",
    "plt.figure(figsize=(5,3))\n",
    "plt.plot(x, valid_scores['accuracy'], label='validation')\n",
    "plt.title('accuracy')\n",
    "plt.legend(loc='best')\n"
   ]
  },
  {
   "cell_type": "markdown",
   "metadata": {
    "ein.tags": "worksheet-0",
    "slideshow": {
     "slide_type": "-"
    }
   },
   "source": [
    "### Inference"
   ]
  },
  {
   "cell_type": "code",
   "execution_count": null,
   "metadata": {
    "autoscroll": false,
    "collapsed": false,
    "ein.hycell": false,
    "ein.tags": "worksheet-0",
    "jupyter": {
     "outputs_hidden": false
    },
    "slideshow": {
     "slide_type": "-"
    }
   },
   "outputs": [],
   "source": [
    "%%time\n",
    "with torch.no_grad():\n",
    "    evaluate(test_loader)"
   ]
  },
  {
   "cell_type": "markdown",
   "metadata": {
    "ein.tags": "worksheet-0",
    "slideshow": {
     "slide_type": "-"
    }
   },
   "source": [
    "## Option 2: Reuse a pre-trained CNN\n",
    "\n",
    "Another option is to reuse a pretrained network.  Here we'll use the [VGG16](https://pytorch.org/docs/stable/torchvision/models.html#torchvision.models.vgg16) network architecture with weights learned using ImageNet.  We remove the top layers and freeze the pre-trained weights, and then stack our own, randomly initialized, layers on top of the VGG16 network.\n"
   ]
  },
  {
   "cell_type": "markdown",
   "metadata": {
    "ein.tags": "worksheet-0",
    "slideshow": {
     "slide_type": "-"
    }
   },
   "source": [
    "### Learning 1: New layers"
   ]
  },
  {
   "cell_type": "code",
   "execution_count": null,
   "metadata": {
    "autoscroll": false,
    "collapsed": false,
    "ein.hycell": false,
    "ein.tags": "worksheet-0",
    "jupyter": {
     "outputs_hidden": false
    },
    "slideshow": {
     "slide_type": "-"
    }
   },
   "outputs": [],
   "source": [
    "class PretrainedNet(nn.Module):\n",
    "    def __init__(self):\n",
    "        super(PretrainedNet, self).__init__()\n",
    "        self.vgg_features = models.vgg16(pretrained=True).features\n",
    "\n",
    "        # Freeze the VGG16 layers\n",
    "        for param in self.vgg_features.parameters():\n",
    "            param.requires_grad = False\n",
    "\n",
    "        self.fc1 = nn.Linear(512*4*4, 64)\n",
    "        self.fc2 = nn.Linear(64, 1)\n",
    "\n",
    "    def forward(self, x):\n",
    "        x = self.vgg_features(x)\n",
    "\n",
    "        # flatted 2D to 1D\n",
    "        x = x.view(-1, 512*4*4)\n",
    "\n",
    "        x = F.relu(self.fc1(x))\n",
    "        return torch.sigmoid(self.fc2(x))\n",
    "\n",
    "model = PretrainedNet().to(device)\n",
    "optimizer = optim.SGD(model.parameters(), lr=0.01)\n",
    "criterion = nn.BCELoss()\n",
    "\n",
    "print(model)\n"
   ]
  },
  {
   "cell_type": "markdown",
   "metadata": {
    "ein.tags": "worksheet-0",
    "slideshow": {
     "slide_type": "-"
    }
   },
   "source": [
    "Note that before continuing the training, we create a separate TensorBoard log directory."
   ]
  },
  {
   "cell_type": "code",
   "execution_count": null,
   "metadata": {
    "autoscroll": false,
    "collapsed": false,
    "ein.hycell": false,
    "ein.tags": "worksheet-0",
    "jupyter": {
     "outputs_hidden": false
    },
    "slideshow": {
     "slide_type": "-"
    }
   },
   "outputs": [],
   "source": [
    "if log is not None:\n",
    "    logdir_pt = logdir + '-pretrained'\n",
    "    os.makedirs(logdir_pt)\n",
    "    log = tensorboardX.SummaryWriter(logdir_pt)\n"
   ]
  },
  {
   "cell_type": "code",
   "execution_count": null,
   "metadata": {
    "autoscroll": false,
    "collapsed": false,
    "ein.hycell": false,
    "ein.tags": "worksheet-0",
    "jupyter": {
     "outputs_hidden": false
    },
    "slideshow": {
     "slide_type": "-"
    }
   },
   "outputs": [],
   "source": [
    "%%time\n",
    "\n",
    "epochs = 10\n",
    "\n",
    "train_scores = {}\n",
    "valid_scores = {}\n",
    "\n",
    "for epoch in range(1, epochs + 1):\n",
    "    train(epoch, train_scores)\n",
    "\n",
    "    with torch.no_grad():\n",
    "        print('\\nValidation:')\n",
    "        evaluate(validation_loader, valid_scores, epoch-1)\n",
    "\n",
    "# torch.save(model, \"dvc-vgg16-reuse.pt\")"
   ]
  },
  {
   "cell_type": "code",
   "execution_count": null,
   "metadata": {
    "autoscroll": false,
    "collapsed": false,
    "ein.hycell": false,
    "ein.tags": "worksheet-0",
    "jupyter": {
     "outputs_hidden": false
    },
    "slideshow": {
     "slide_type": "-"
    }
   },
   "outputs": [],
   "source": [
    "x = np.arange(1,epochs+1)\n",
    "plt.figure(figsize=(5,3))\n",
    "plt.plot(x, train_scores['loss'], label='training')\n",
    "plt.plot(x, valid_scores['loss'], label='validation')\n",
    "plt.title('loss')\n",
    "plt.legend(loc='best')\n",
    "\n",
    "plt.figure(figsize=(5,3))\n",
    "plt.plot(x, valid_scores['accuracy'], label='validation')\n",
    "plt.title('accuracy')\n",
    "plt.legend(loc='best')\n"
   ]
  },
  {
   "cell_type": "markdown",
   "metadata": {
    "ein.tags": "worksheet-0",
    "slideshow": {
     "slide_type": "-"
    }
   },
   "source": [
    "### Learning 2: Fine-tuning\n",
    "\n",
    "Once the top layers have learned some reasonable weights, we can continue training by unfreezing the last convolution block of VGG16 so that it may adapt to our data. The learning rate should be smaller than usual.\n",
    "\n",
    "Below we loop over all layers and set only the last three Conv2d layers to trainable. In the printout we mark trainable layers with '+', frozen with '-'.  Other layers don't have trainable parameters."
   ]
  },
  {
   "cell_type": "code",
   "execution_count": null,
   "metadata": {
    "autoscroll": false,
    "collapsed": false,
    "ein.hycell": false,
    "ein.tags": "worksheet-0",
    "jupyter": {
     "outputs_hidden": false
    },
    "slideshow": {
     "slide_type": "-"
    }
   },
   "outputs": [],
   "source": [
    "for name, layer in model.vgg_features.named_children():\n",
    "    note = ' '\n",
    "    for param in layer.parameters():\n",
    "        note = '-'\n",
    "        if int(name) >= 24:\n",
    "            param.requires_grad = True\n",
    "            note = '+'\n",
    "    print(name, note, layer, len(param))\n"
   ]
  },
  {
   "cell_type": "markdown",
   "metadata": {
    "ein.tags": "worksheet-0",
    "slideshow": {
     "slide_type": "-"
    }
   },
   "source": [
    "We set up the training, note that we need to give only the parameters that are set to be trainable."
   ]
  },
  {
   "cell_type": "code",
   "execution_count": null,
   "metadata": {
    "autoscroll": false,
    "collapsed": false,
    "ein.hycell": false,
    "ein.tags": "worksheet-0",
    "jupyter": {
     "outputs_hidden": false
    },
    "slideshow": {
     "slide_type": "-"
    }
   },
   "outputs": [],
   "source": [
    "params = filter(lambda p: p.requires_grad, model.parameters())\n",
    "#optimizer = optim.SGD(model.parameters(), lr=1e-3)\n",
    "optimizer = optim.RMSprop(params, lr=1e-5)\n",
    "criterion = nn.BCELoss()\n"
   ]
  },
  {
   "cell_type": "markdown",
   "metadata": {
    "ein.tags": "worksheet-0",
    "slideshow": {
     "slide_type": "-"
    }
   },
   "source": [
    "Note that before continuing the training, we create a separate TensorBoard log directory."
   ]
  },
  {
   "cell_type": "code",
   "execution_count": null,
   "metadata": {
    "autoscroll": false,
    "collapsed": false,
    "ein.hycell": false,
    "ein.tags": "worksheet-0",
    "jupyter": {
     "outputs_hidden": false
    },
    "slideshow": {
     "slide_type": "-"
    }
   },
   "outputs": [],
   "source": [
    "if log is not None:\n",
    "    logdir_pt = logdir + '-pretrained-finetune'\n",
    "    os.makedirs(logdir_pt)\n",
    "    log = tensorboardX.SummaryWriter(logdir_pt)\n"
   ]
  },
  {
   "cell_type": "code",
   "execution_count": null,
   "metadata": {
    "autoscroll": false,
    "collapsed": false,
    "ein.hycell": false,
    "ein.tags": "worksheet-0",
    "jupyter": {
     "outputs_hidden": false
    },
    "slideshow": {
     "slide_type": "-"
    }
   },
   "outputs": [],
   "source": [
    "%%time\n",
    "\n",
    "prev_epochs = epochs\n",
    "epochs = 20\n",
    "\n",
    "train_scores = {}\n",
    "valid_scores = {}\n",
    "\n",
    "for epoch in range(1, epochs + 1):\n",
    "    train(epoch+prev_epochs, train_scores)\n",
    "\n",
    "    with torch.no_grad():\n",
    "        print('\\nValidation:')\n",
    "        evaluate(validation_loader, valid_scores, prev_epochs+epoch-1)\n",
    "\n",
    "#torch.save(model, \"dvc-vgg16-finetune.pt\")\n"
   ]
  },
  {
   "cell_type": "code",
   "execution_count": null,
   "metadata": {
    "autoscroll": false,
    "collapsed": false,
    "ein.hycell": false,
    "ein.tags": "worksheet-0",
    "jupyter": {
     "outputs_hidden": false
    },
    "slideshow": {
     "slide_type": "-"
    }
   },
   "outputs": [],
   "source": [
    "x = np.arange(1,epochs+1)\n",
    "plt.figure(figsize=(5,3))\n",
    "plt.plot(x, train_scores['loss'], label='training')\n",
    "plt.plot(x, valid_scores['loss'], label='validation')\n",
    "plt.title('loss')\n",
    "plt.legend(loc='best')\n",
    "\n",
    "plt.figure(figsize=(5,3))\n",
    "plt.plot(x, valid_scores['accuracy'], label='validation')\n",
    "plt.title('accuracy')\n",
    "plt.legend(loc='best')\n"
   ]
  },
  {
   "cell_type": "markdown",
   "metadata": {
    "ein.tags": "worksheet-0",
    "slideshow": {
     "slide_type": "-"
    }
   },
   "source": [
    "### Inference"
   ]
  },
  {
   "cell_type": "code",
   "execution_count": null,
   "metadata": {
    "autoscroll": false,
    "collapsed": false,
    "ein.hycell": false,
    "ein.tags": "worksheet-0",
    "jupyter": {
     "outputs_hidden": false
    },
    "slideshow": {
     "slide_type": "-"
    }
   },
   "outputs": [],
   "source": [
    "%%time\n",
    "with torch.no_grad():\n",
    "    evaluate(test_loader)"
   ]
  }
 ],
 "metadata": {
  "kernelspec": {
   "display_name": "Python 3 (ipykernel)",
   "language": "python",
   "name": "python3"
  },
  "language_info": {
   "codemirror_mode": {
    "name": "ipython",
    "version": 3
   },
   "file_extension": ".py",
   "mimetype": "text/x-python",
   "name": "python",
   "nbconvert_exporter": "python",
   "pygments_lexer": "ipython3",
   "version": "3.8.11"
  },
  "name": "pytorch-dvc-cnn.ipynb"
 },
 "nbformat": 4,
 "nbformat_minor": 4
}
